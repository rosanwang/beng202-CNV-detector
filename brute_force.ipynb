{
 "cells": [
  {
   "cell_type": "code",
   "execution_count": 5,
   "metadata": {},
   "outputs": [],
   "source": [
    "# parameters and packages\n",
    "from typing import List, Dict, Tuple\n",
    "\n",
    "match = 2\n",
    "mismatch = -1\n",
    "gap = -2"
   ]
  },
  {
   "cell_type": "code",
   "execution_count": 6,
   "metadata": {},
   "outputs": [],
   "source": [
    "# helper function: global alignment for similarity score\n",
    "\n",
    "def lcs_backtrack(v, w, match, mismatch, indel):\n",
    "    s = []\n",
    "    for _ in range(len(v) + 1):\n",
    "        s.append([0] * (len(w) + 1))\n",
    "\n",
    "    temp = [0]\n",
    "    for i in range(len(s[0])-1):\n",
    "        val = temp[i] - indel\n",
    "        temp.append(val)\n",
    "    s[0] = temp\n",
    "\n",
    "    for i in range(1, len(s)):\n",
    "        val = s[i-1][0] - indel\n",
    "        s[i][0] = val\n",
    "\n",
    "    for i in range(1, len(v) + 1):\n",
    "        for j in range(1, len(w) + 1):\n",
    "            m = 0\n",
    "            if v[i-1] == w[j-1]:\n",
    "                m = match\n",
    "            else:\n",
    "                m = -(mismatch)\n",
    "            s[i][j] = max(s[i-1][j] - indel, s[i][j-1] - indel, s[i-1][j-1] + m)\n",
    "    return s\n",
    "\n",
    "# Insert your global_alignment function here, along with any subroutines you need\n",
    "def similarity(s, t, match_reward=match, mismatch_penalty=mismatch, indel_penalty=gap):\n",
    "    manhatten = lcs_backtrack(s, t, match_reward, mismatch_penalty, indel_penalty)\n",
    "    score = manhatten[-1][-1]\n",
    "\n",
    "    i = len(s)\n",
    "    j = len(t)\n",
    "    s1 = \"\"\n",
    "    s2 = \"\"\n",
    "    while i != 0 and j != 0:\n",
    "        if manhatten[i][j-1] - indel_penalty == manhatten[i][j]:\n",
    "            s1 += \"-\"\n",
    "            j -= 1\n",
    "            s2 += t[-1]\n",
    "            t = t[:-1]\n",
    "        elif manhatten[i-1][j] - indel_penalty == manhatten[i][j]:\n",
    "            s1 += s[-1]\n",
    "            s = s[:-1]\n",
    "            s2 += \"-\"\n",
    "            i -= 1\n",
    "        else:\n",
    "            s1 += s[-1]\n",
    "            s = s[:-1]\n",
    "            s2 += t[-1]\n",
    "            t = t[:-1]\n",
    "            i -= 1\n",
    "            j -= 1\n",
    "    return score, s1[::-1], s2[::-1]\n"
   ]
  },
  {
   "cell_type": "code",
   "execution_count": null,
   "metadata": {},
   "outputs": [],
   "source": [
    "# find all possible combinations of tandem duplications / deletions for each string\n",
    "\n",
    "def all_tandem_transforms(target, k1, k2):\n",
    "    all_transformations = set()"
   ]
  },
  {
   "cell_type": "code",
   "execution_count": null,
   "metadata": {},
   "outputs": [],
   "source": [
    "# find tandem transformations\n",
    "\n",
    "def find_tandem_transformation(s: str, t: str, k1: int, k2: int, v: int):\n",
    "\n",
    "    # find all possible tandem duplications and deletions\n",
    "    s_transformed = all_tandem_transforms(s, k1, k2)\n",
    "    t_transformed = all_tandem_transforms(t, k1, k2)"
   ]
  },
  {
   "cell_type": "code",
   "execution_count": null,
   "metadata": {},
   "outputs": [],
   "source": [
    "# Test Case 1:\n",
    "    # Input: s=CTTCTTAGACA, t=AGACACACA\n",
    "\n"
   ]
  }
 ],
 "metadata": {
  "kernelspec": {
   "display_name": "3.9.7",
   "language": "python",
   "name": "python3"
  },
  "language_info": {
   "codemirror_mode": {
    "name": "ipython",
    "version": 3
   },
   "file_extension": ".py",
   "mimetype": "text/x-python",
   "name": "python",
   "nbconvert_exporter": "python",
   "pygments_lexer": "ipython3",
   "version": "3.9.7"
  }
 },
 "nbformat": 4,
 "nbformat_minor": 2
}
